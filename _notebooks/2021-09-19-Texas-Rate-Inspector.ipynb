{
 "cells": [
  {
   "cell_type": "markdown",
   "metadata": {},
   "source": [
    "# Texas Rate Inspector Overview\n",
    "- toc: true\n",
    "- branch: master\n",
    "- badges: false\n",
    "- comments: true\n",
    "- author: Kevin Bird\n",
    "- categories: [texas,rate]\n",
    "- hide: false"
   ]
  },
  {
   "cell_type": "code",
   "execution_count": 1,
   "metadata": {
    "ExecuteTime": {
     "end_time": "2021-09-20T01:21:32.181055Z",
     "start_time": "2021-09-20T01:21:32.010925Z"
    }
   },
   "outputs": [],
   "source": [
    "#hide_input\n",
    "import pandas as pd\n",
    "import datetime\n",
    "import calendar"
   ]
  },
  {
   "cell_type": "markdown",
   "metadata": {},
   "source": [
    "## What's the Problem?"
   ]
  },
  {
   "cell_type": "markdown",
   "metadata": {},
   "source": [
    "Currently Texas' rate selection process is heavily driven by the lowest cost for a typical user.  However, this limits the imagination of Retail Electricity Providers (REP) and ends up hurting residential customers by creating a single variable rate plan that every REP optimizes for.  We at the Problem Solvers Guild have a different way of measuring plans that utilizes a customers' true historical usage.  Now the question is, which of the 159 plans currently available in almost any zip code in Texas is right for an individual?"
   ]
  },
  {
   "cell_type": "markdown",
   "metadata": {},
   "source": [
    "![](notebook_images/2021-09-19-Texas-Rate-Inspector/powertochoose.png \"159 Plans found on PowerToChoose for 77095\")"
   ]
  },
  {
   "cell_type": "markdown",
   "metadata": {},
   "source": [
    "## What's the Solution?"
   ]
  },
  {
   "cell_type": "markdown",
   "metadata": {},
   "source": [
    "The Problem Solvers Guild has developed a method to take any electric `rate plan` and apply an individual's `usage` to calculate a more accurate price-per-kilowatt than what is typically provided by REPs.  With this solution, we help residential customers identify plans they would have previously overlooked.\n",
    "\n",
    "We grab usage by working with [Smart Meter Texas](https://www.smartmetertexas.com/aboutus).  A site that was created to allow residential customers to access their 15-minute usage data.  This site also allows customers to share this access with companies with just a few pieces of information.\n",
    "\n",
    "All of the rate plans that we currently use come from [Power to Choose](powertochoose.org) which is a site where REPs are able to advertise their available rates to residential customers.  Each plan has an electricity facts label (EFL) that describes the plan in detail.  We use these EFLs to model different rate plans that are offered.  \n",
    "\n",
    "Once we have all of this information, we combine the data and find the rate that would have given an individual the lowest price-per-kilowatt over the past year.  If this is something you are interested in knowing for yourself, [fill out our form](https://www.problemsolversguild.com/texas-power/#tpwhearbcdgomrevxrxpjuuavqkoqwqxkeuh) and we will run an analysis for you.  If you are a company that would like to use our library to create better rate plans or to drive your rate engine, feel free to contact us and we can find a solution based on your needs as well.  "
   ]
  },
  {
   "cell_type": "markdown",
   "metadata": {},
   "source": [
    "## How does it work?"
   ]
  },
  {
   "cell_type": "markdown",
   "metadata": {},
   "source": [
    "The Problem Solvers Guild is excited to introduce the Texas Rate Inspector.  This tool allows an individual to quickly simulate any rate with their historical usage.  Let me take you on a quick tour of how this tool works.  \n",
    "\n",
    "Here are three rate plans to choose from.  \n",
    "1. **Plan 1 (Flat Rate)** charges <span>$</span>0.119 per kWh plus a <span>$</span>9.95 monthly charge if your usage for that month is less than 1000 kWh.\n",
    "1. **Plan 2 (Free Weekends)** charges <span>$</span>0.200 per kWh between 12:00 AM Monday to 7:00 PM Friday plus a <span>$</span>4.95 monthly charge.\n",
    "1. **Plan 3 (Tiered Rate)** charges <span>$</span>0.089 per kWh between 0 and 1200 kWh of usage and <span>$</span>0.145 per kWh past that.  This plan also has a <span>$</span>9.95 monthly charge and a <span>$</span>30 credit if you use more than 800 kWh.  \n",
    "\n",
    "Now that I've given you all the information you need, which of these plans is the best option for a residential customer in Texas?  \n",
    "\n",
    "You can close your Excel sheet.  I will walk you through each of these scenarios and at the end, I will tell you which of these is the best plan for the user."
   ]
  },
  {
   "cell_type": "markdown",
   "metadata": {},
   "source": [
    "## Grabbing Historical Usage"
   ]
  },
  {
   "cell_type": "markdown",
   "metadata": {},
   "source": [
    "First, we grab a user's usage.  If you are interested in providing your usage information to us, [fill out our form](https://www.problemsolversguild.com/texas-power/#tpwhearbcdgomrevxrxpjuuavqkoqwqxkeuh) and we will get access from Smart Meter Texas."
   ]
  },
  {
   "cell_type": "code",
   "execution_count": 21,
   "metadata": {
    "ExecuteTime": {
     "end_time": "2021-09-20T02:40:33.336820Z",
     "start_time": "2021-09-20T02:40:32.855984Z"
    }
   },
   "outputs": [],
   "source": [
    "from rate_inspector.usage import *\n",
    "start_date = pd.to_datetime(datetime.date(2021, 7, 1))\n",
    "end_date = pd.to_datetime(datetime.date(2021, 7,31))\n",
    "data = pd.read_csv('../assets/example_usage.csv', parse_dates=['USAGE_DATE'])\n",
    "data = get_data(data, start_date, end_date)\n",
    "july_usage_data = UsageComponent.from_historical_df(data)"
   ]
  },
  {
   "cell_type": "markdown",
   "metadata": {},
   "source": [
    "Here is a single day of historical usage (96 15-minute intervals)"
   ]
  },
  {
   "cell_type": "code",
   "execution_count": 22,
   "metadata": {
    "ExecuteTime": {
     "end_time": "2021-09-20T02:40:36.763884Z",
     "start_time": "2021-09-20T02:40:36.650860Z"
    }
   },
   "outputs": [
    {
     "data": {
      "image/png": "[encoded data removed]",
      "text/plain": [
       "<Figure size 432x288 with 1 Axes>"
      ]
     },
     "metadata": {
      "needs_background": "light"
     },
     "output_type": "display_data"
    }
   ],
   "source": [
    "july_usage_data.plot_usage(0,96)"
   ]
  },
  {
   "cell_type": "markdown",
   "metadata": {},
   "source": [
    "Now that we have historical usage, let's model each of the three plans. "
   ]
  },
  {
   "cell_type": "markdown",
   "metadata": {},
   "source": [
    "## Plan 1: Flat Rate\n",
    "> Plan 1 (Flat Rate) charges <span>$</span>0.119 per kWh plus a <span>$</span>9.95 monthly charge if your usage for that month is less than 1000 kWh"
   ]
  },
  {
   "cell_type": "code",
   "execution_count": 23,
   "metadata": {
    "ExecuteTime": {
     "end_time": "2021-09-20T02:40:42.398196Z",
     "start_time": "2021-09-20T02:40:42.392595Z"
    }
   },
   "outputs": [],
   "source": [
    "from rate_inspector.rate import * \n",
    "from rate_inspector.plan import *"
   ]
  },
  {
   "cell_type": "markdown",
   "metadata": {},
   "source": [
    "First, we identify the rate components.  This first plan has a `FlatThreshold` component that has a flat charge up to a threshold. "
   ]
  },
  {
   "cell_type": "code",
   "execution_count": 5,
   "metadata": {
    "ExecuteTime": {
     "end_time": "2021-09-20T01:21:32.835893Z",
     "start_time": "2021-09-20T01:21:32.829074Z"
    }
   },
   "outputs": [],
   "source": [
    "base_w_peak = FlatThreshold('Flat Charge', 9.95, max_thresh=1000)\n",
    "kwh_charge = TimeOfUseRate('Energy Charge', 0.119)"
   ]
  },
  {
   "cell_type": "markdown",
   "metadata": {},
   "source": [
    "Once all of the rate components have been defined, we create a rate plan that contains all of the rate components.  "
   ]
  },
  {
   "cell_type": "code",
   "execution_count": 6,
   "metadata": {
    "ExecuteTime": {
     "end_time": "2021-09-20T01:21:32.846069Z",
     "start_time": "2021-09-20T01:21:32.836798Z"
    }
   },
   "outputs": [],
   "source": [
    "plan1 = RatePlan('Flat Rate', [base_w_peak, kwh_charge])"
   ]
  },
  {
   "cell_type": "markdown",
   "metadata": {},
   "source": [
    "Next, we create a statement which combines the plan and the usage."
   ]
  },
  {
   "cell_type": "code",
   "execution_count": 7,
   "metadata": {
    "ExecuteTime": {
     "end_time": "2021-09-20T01:21:32.854781Z",
     "start_time": "2021-09-20T01:21:32.846962Z"
    }
   },
   "outputs": [],
   "source": [
    "statement1 = Statement(plan1, july_usage_data)"
   ]
  },
  {
   "cell_type": "markdown",
   "metadata": {},
   "source": [
    "Since total_usage was under 1000 kWh in this case, the &dollar;9.95 base charge is applied."
   ]
  },
  {
   "cell_type": "code",
   "execution_count": 8,
   "metadata": {
    "ExecuteTime": {
     "end_time": "2021-09-20T01:21:32.870171Z",
     "start_time": "2021-09-20T01:21:32.856608Z"
    }
   },
   "outputs": [
    {
     "name": "stdout",
     "output_type": "stream",
     "text": [
      "Flat Charge: 9.9500\n",
      "Energy Charge: 96.2753\n"
     ]
    }
   ],
   "source": [
    "statement1.print_line_item()"
   ]
  },
  {
   "cell_type": "code",
   "execution_count": 9,
   "metadata": {
    "ExecuteTime": {
     "end_time": "2021-09-20T01:21:32.880980Z",
     "start_time": "2021-09-20T01:21:32.871314Z"
    }
   },
   "outputs": [
    {
     "data": {
      "text/plain": [
       "809.0359999999996"
      ]
     },
     "execution_count": 9,
     "metadata": {},
     "output_type": "execute_result"
    }
   ],
   "source": [
    "statement1.total_usage"
   ]
  },
  {
   "cell_type": "markdown",
   "metadata": {},
   "source": [
    "So our total cost per kwh is \\$0.131/kWh for Plan 1"
   ]
  },
  {
   "cell_type": "code",
   "execution_count": 10,
   "metadata": {
    "ExecuteTime": {
     "end_time": "2021-09-20T01:21:32.890731Z",
     "start_time": "2021-09-20T01:21:32.881791Z"
    }
   },
   "outputs": [
    {
     "data": {
      "text/plain": [
       "0.1312985874546989"
      ]
     },
     "execution_count": 10,
     "metadata": {},
     "output_type": "execute_result"
    }
   ],
   "source": [
    "statement1.price_per_kwh"
   ]
  },
  {
   "cell_type": "markdown",
   "metadata": {},
   "source": [
    "## Plan 2: Free Weekends\n",
    "> Plan 2 (Free Weekends) charges &dollar;0.200 per kWh between 12:00 AM Monday to 7:00 PM Friday plus a &dollar;4.95 monthly charge"
   ]
  },
  {
   "cell_type": "code",
   "execution_count": 11,
   "metadata": {
    "ExecuteTime": {
     "end_time": "2021-09-20T01:21:32.898680Z",
     "start_time": "2021-09-20T01:21:32.891551Z"
    }
   },
   "outputs": [],
   "source": [
    "energy_kwh_rest_of_week = TimeOfUseRate('RoW Energy Charge', 0.20, days_of_week=[calendar.MONDAY, calendar.TUESDAY, calendar.WEDNESDAY, calendar.THURSDAY])\n",
    "energy_kwh_friday = TimeOfUseRate('Friday Energy Charge', 0.20, days_of_week=[calendar.FRIDAY], end_time=datetime.time(7))\n",
    "base = Flat('Base Charge', 4.95)"
   ]
  },
  {
   "cell_type": "code",
   "execution_count": 12,
   "metadata": {
    "ExecuteTime": {
     "end_time": "2021-09-20T01:21:32.907634Z",
     "start_time": "2021-09-20T01:21:32.899568Z"
    }
   },
   "outputs": [],
   "source": [
    "plan2 = RatePlan('Free Weekends', [energy_kwh_rest_of_week, energy_kwh_friday, base])"
   ]
  },
  {
   "cell_type": "code",
   "execution_count": 13,
   "metadata": {
    "ExecuteTime": {
     "end_time": "2021-09-20T01:21:32.920773Z",
     "start_time": "2021-09-20T01:21:32.908547Z"
    }
   },
   "outputs": [],
   "source": [
    "statement2 = Statement(plan2, july_usage_data)"
   ]
  },
  {
   "cell_type": "code",
   "execution_count": 14,
   "metadata": {
    "ExecuteTime": {
     "end_time": "2021-09-20T01:21:32.929789Z",
     "start_time": "2021-09-20T01:21:32.921673Z"
    }
   },
   "outputs": [
    {
     "name": "stdout",
     "output_type": "stream",
     "text": [
      "RoW Energy Charge: 82.3296\n",
      "Friday Energy Charge: 1.7952\n",
      "Base Charge: 4.9500\n"
     ]
    }
   ],
   "source": [
    "statement2.print_line_item()"
   ]
  },
  {
   "cell_type": "markdown",
   "metadata": {
    "ExecuteTime": {
     "end_time": "2021-09-19T23:33:09.053238Z",
     "start_time": "2021-09-19T23:33:09.051182Z"
    }
   },
   "source": [
    "So our total cost per kwh is \\$0.11/kWh for Plan 2 even though the advertised price on PowerToChoose shows the minimum price per kWh to be \\$0.132 (@ 2000 kWh)"
   ]
  },
  {
   "cell_type": "code",
   "execution_count": 15,
   "metadata": {
    "ExecuteTime": {
     "end_time": "2021-09-20T01:21:32.939384Z",
     "start_time": "2021-09-20T01:21:32.930570Z"
    }
   },
   "outputs": [
    {
     "data": {
      "text/plain": [
       "0.11009992138792346"
      ]
     },
     "execution_count": 15,
     "metadata": {},
     "output_type": "execute_result"
    }
   ],
   "source": [
    "statement2.price_per_kwh"
   ]
  },
  {
   "cell_type": "markdown",
   "metadata": {},
   "source": [
    "## Plan 3: Tiered Rate\n",
    "> Plan 3 (Tiered Rate) charges \\$0.089 per kWh between 0 and 1200 kWh of usage and \\$0.145 per kWh past that. This plan also has a \\$9.95 monthly charge and a \\$30 credit if you use more than 800 kWh. "
   ]
  },
  {
   "cell_type": "code",
   "execution_count": 16,
   "metadata": {
    "ExecuteTime": {
     "end_time": "2021-09-20T01:21:32.947208Z",
     "start_time": "2021-09-20T01:21:32.940206Z"
    }
   },
   "outputs": [],
   "source": [
    "base = Flat('Base Charge', 9.95)\n",
    "tier1 = Tier('0-1200 kWh', 0.089, max_kwh=1200)\n",
    "tier2 = Tier('> 1200 kWh', 0.145, min_kwh=1200)\n",
    "credit = FlatThreshold('800 kwh credit', -30, min_thresh=800)"
   ]
  },
  {
   "cell_type": "code",
   "execution_count": 17,
   "metadata": {
    "ExecuteTime": {
     "end_time": "2021-09-20T01:21:32.955270Z",
     "start_time": "2021-09-20T01:21:32.948074Z"
    }
   },
   "outputs": [],
   "source": [
    "plan3 = RatePlan('Tiered Rate', [base, tier1, tier2, credit])"
   ]
  },
  {
   "cell_type": "code",
   "execution_count": 18,
   "metadata": {
    "ExecuteTime": {
     "end_time": "2021-09-20T01:21:32.962729Z",
     "start_time": "2021-09-20T01:21:32.956208Z"
    }
   },
   "outputs": [],
   "source": [
    "statement3 = Statement(plan3, july_usage_data)"
   ]
  },
  {
   "cell_type": "code",
   "execution_count": 19,
   "metadata": {
    "ExecuteTime": {
     "end_time": "2021-09-20T01:21:32.975591Z",
     "start_time": "2021-09-20T01:21:32.963667Z"
    }
   },
   "outputs": [
    {
     "name": "stdout",
     "output_type": "stream",
     "text": [
      "Base Charge: 9.9500\n",
      "0-1200 kWh: 72.0042\n",
      "> 1200 kWh: 0.0000\n",
      "800 kwh credit: -30.0000\n"
     ]
    }
   ],
   "source": [
    "statement3.print_line_item()"
   ]
  },
  {
   "cell_type": "markdown",
   "metadata": {},
   "source": [
    "Plan 3 ends up being a great option for the usage.  Our user would have paid just \\$0.064/kWh for plan number three.  One thing to keep in mind is that we are only simulating a single month at this point.  "
   ]
  },
  {
   "cell_type": "code",
   "execution_count": 20,
   "metadata": {
    "ExecuteTime": {
     "end_time": "2021-09-20T01:21:32.988717Z",
     "start_time": "2021-09-20T01:21:32.976369Z"
    }
   },
   "outputs": [
    {
     "data": {
      "text/plain": [
       "0.06421741924957602"
      ]
     },
     "execution_count": 20,
     "metadata": {},
     "output_type": "execute_result"
    }
   ],
   "source": [
    "statement3.price_per_kwh"
   ]
  },
  {
   "cell_type": "markdown",
   "metadata": {},
   "source": [
    "## Conclusion"
   ]
  },
  {
   "cell_type": "markdown",
   "metadata": {},
   "source": [
    "This blog post shows an example of how the Texas Rate Inspector works.  If you are interested in getting your electric rates modeled or would like to hear more about what we do, [please reach out](https://www.problemsolversguild.com/texas-power/#tpwhearbcdgomrevxrxpjuuavqkoqwqxkeuh).  We would love to take your usage and help you find your next rate plan."
   ]
  }
 ],
 "metadata": {
  "kernelspec": {
   "display_name": "Python 3",
   "language": "python",
   "name": "python3"
  },
  "language_info": {
   "codemirror_mode": {
    "name": "ipython",
    "version": 3
   },
   "file_extension": ".py",
   "mimetype": "text/x-python",
   "name": "python",
   "nbconvert_exporter": "python",
   "pygments_lexer": "ipython3",
   "version": "3.8.5"
  },
  "toc": {
   "base_numbering": 1,
   "nav_menu": {},
   "number_sections": false,
   "sideBar": true,
   "skip_h1_title": false,
   "title_cell": "Table of Contents",
   "title_sidebar": "Contents",
   "toc_cell": false,
   "toc_position": {},
   "toc_section_display": true,
   "toc_window_display": true
  }
 },
 "nbformat": 4,
 "nbformat_minor": 4
}
