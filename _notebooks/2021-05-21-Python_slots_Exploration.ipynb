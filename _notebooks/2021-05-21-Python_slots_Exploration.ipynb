{
 "cells": [
  {
   "cell_type": "markdown",
   "metadata": {},
   "source": [
    "# Python Native __slots__ Attribute Exploration\n",
    "> Diving into Python to see what __slots__ does and how it can be used\n",
    "\n",
    "- toc: true\n",
    "- branch: master\n",
    "- badges: true\n",
    "- comments: true\n",
    "- author: Kevin Bird\n",
    "- categories: [python, technical, exploration]"
   ]
  },
  {
   "cell_type": "code",
   "execution_count": 1,
   "metadata": {
    "ExecuteTime": {
     "end_time": "2021-05-22T04:09:45.086676Z",
     "start_time": "2021-05-22T04:09:45.068311Z"
    }
   },
   "outputs": [],
   "source": [
    "#hide\n",
    "import sys"
   ]
  },
  {
   "cell_type": "markdown",
   "metadata": {},
   "source": [
    "## Introduction"
   ]
  },
  {
   "cell_type": "markdown",
   "metadata": {},
   "source": [
    "While reading the [python data model](https://docs.python.org/3.8/reference/datamodel.html#slots) documentation, I came across something I hadn't seen before. `__slots__` is an optional argument that allows users to \"explicitly declare data members\".  It is an interesting concept that I haven't seen utilized, but perhaps the reason is that not many people are aware it exists.  I am going to explore this attribute that is available to see if it might provide value for my future projects.  According to [this blog post](https://book.pythontips.com/en/latest/__slots__magic.html), \\_\\_slots\\_\\_ can significantly reduce the amount of ram required to create objects (40-50%!).  Now let's dive in and figure out how it's used!"
   ]
  },
  {
   "cell_type": "code",
   "execution_count": 2,
   "metadata": {
    "ExecuteTime": {
     "end_time": "2021-05-22T04:09:46.222721Z",
     "start_time": "2021-05-22T04:09:46.217871Z"
    }
   },
   "outputs": [
    {
     "name": "stdout",
     "output_type": "stream",
     "text": [
      "Python Version Check:\n",
      "3.8.8 (default, Apr 13 2021, 19:58:26) \n",
      "[GCC 7.3.0]\n"
     ]
    }
   ],
   "source": [
    "#hide_input\n",
    "print(\"Python Version Check:\\n\" + sys.version)"
   ]
  },
  {
   "cell_type": "markdown",
   "metadata": {},
   "source": [
    "## Example #1: Typical Case"
   ]
  },
  {
   "cell_type": "markdown",
   "metadata": {},
   "source": [
    "The first example we look at is the working example.  we will have a class `A1` with __slots__ set to accept one var named `var1`."
   ]
  },
  {
   "cell_type": "code",
   "execution_count": 3,
   "metadata": {
    "ExecuteTime": {
     "end_time": "2021-05-22T04:09:47.917366Z",
     "start_time": "2021-05-22T04:09:47.912754Z"
    }
   },
   "outputs": [],
   "source": [
    "class A1:\n",
    "    __slots__ = ['var1']\n",
    "    def __init__(self, value_passed_through_here):\n",
    "        self.var1 = value_passed_through_here"
   ]
  },
  {
   "cell_type": "code",
   "execution_count": 5,
   "metadata": {
    "ExecuteTime": {
     "end_time": "2021-05-22T04:09:54.819948Z",
     "start_time": "2021-05-22T04:09:54.811711Z"
    }
   },
   "outputs": [
    {
     "data": {
      "text/plain": [
       "1"
      ]
     },
     "execution_count": 5,
     "metadata": {},
     "output_type": "execute_result"
    }
   ],
   "source": [
    "a1 = A1(1); a1.var1"
   ]
  },
  {
   "cell_type": "markdown",
   "metadata": {},
   "source": [
    "`a` has been created and everything is going well.  Let's try adding another attribute. "
   ]
  },
  {
   "cell_type": "code",
   "execution_count": 6,
   "metadata": {
    "ExecuteTime": {
     "end_time": "2021-05-22T04:09:56.132645Z",
     "start_time": "2021-05-22T04:09:56.129128Z"
    }
   },
   "outputs": [
    {
     "ename": "AttributeError",
     "evalue": "'A1' object has no attribute 'var2'",
     "output_type": "error",
     "traceback": [
      "\u001b[0;31m---------------------------------------------------------------------------\u001b[0m",
      "\u001b[0;31mAttributeError\u001b[0m                            Traceback (most recent call last)",
      "\u001b[0;32m<ipython-input-6-468e53fb51e0>\u001b[0m in \u001b[0;36m<module>\u001b[0;34m\u001b[0m\n\u001b[0;32m----> 1\u001b[0;31m \u001b[0ma1\u001b[0m\u001b[0;34m.\u001b[0m\u001b[0mvar2\u001b[0m \u001b[0;34m=\u001b[0m \u001b[0;34m\"but can I set another var?\"\u001b[0m\u001b[0;34m\u001b[0m\u001b[0;34m\u001b[0m\u001b[0m\n\u001b[0m",
      "\u001b[0;31mAttributeError\u001b[0m: 'A1' object has no attribute 'var2'"
     ]
    }
   ],
   "source": [
    "a1.var2 = \"but can I set another var?\""
   ]
  },
  {
   "cell_type": "markdown",
   "metadata": {},
   "source": [
    "`a.var2` fails as expected because it isn't in the `__slots__` list and `__slots__` is read-only so it cannot be updated. "
   ]
  },
  {
   "cell_type": "code",
   "execution_count": 7,
   "metadata": {
    "ExecuteTime": {
     "end_time": "2021-05-22T04:09:58.452696Z",
     "start_time": "2021-05-22T04:09:58.449008Z"
    }
   },
   "outputs": [
    {
     "ename": "AttributeError",
     "evalue": "'A1' object attribute '__slots__' is read-only",
     "output_type": "error",
     "traceback": [
      "\u001b[0;31m---------------------------------------------------------------------------\u001b[0m",
      "\u001b[0;31mAttributeError\u001b[0m                            Traceback (most recent call last)",
      "\u001b[0;32m<ipython-input-7-5213b9df3654>\u001b[0m in \u001b[0;36m<module>\u001b[0;34m\u001b[0m\n\u001b[0;32m----> 1\u001b[0;31m \u001b[0ma1\u001b[0m\u001b[0;34m.\u001b[0m\u001b[0m__slots__\u001b[0m \u001b[0;34m=\u001b[0m \u001b[0;34m[\u001b[0m\u001b[0;34m'var2'\u001b[0m\u001b[0;34m]\u001b[0m\u001b[0;34m\u001b[0m\u001b[0;34m\u001b[0m\u001b[0m\n\u001b[0m",
      "\u001b[0;31mAttributeError\u001b[0m: 'A1' object attribute '__slots__' is read-only"
     ]
    }
   ],
   "source": [
    "a1.__slots__ = ['var2']"
   ]
  },
  {
   "cell_type": "code",
   "execution_count": 8,
   "metadata": {
    "ExecuteTime": {
     "end_time": "2021-05-22T04:10:00.676577Z",
     "start_time": "2021-05-22T04:10:00.672840Z"
    }
   },
   "outputs": [
    {
     "ename": "AttributeError",
     "evalue": "'A1' object attribute '__slots__' is read-only",
     "output_type": "error",
     "traceback": [
      "\u001b[0;31m---------------------------------------------------------------------------\u001b[0m",
      "\u001b[0;31mAttributeError\u001b[0m                            Traceback (most recent call last)",
      "\u001b[0;32m<ipython-input-8-47cd4105f78c>\u001b[0m in \u001b[0;36m<module>\u001b[0;34m\u001b[0m\n\u001b[0;32m----> 1\u001b[0;31m \u001b[0ma1\u001b[0m\u001b[0;34m.\u001b[0m\u001b[0m__slots__\u001b[0m \u001b[0;34m=\u001b[0m \u001b[0;34m[\u001b[0m\u001b[0;34m'var1'\u001b[0m\u001b[0;34m,\u001b[0m \u001b[0;34m'var2'\u001b[0m\u001b[0;34m]\u001b[0m\u001b[0;34m\u001b[0m\u001b[0;34m\u001b[0m\u001b[0m\n\u001b[0m",
      "\u001b[0;31mAttributeError\u001b[0m: 'A1' object attribute '__slots__' is read-only"
     ]
    }
   ],
   "source": [
    "a1.__slots__ = ['var1', 'var2']"
   ]
  },
  {
   "cell_type": "markdown",
   "metadata": {},
   "source": [
    "When \\_\\_slots\\_\\_ is used, the \\_\\_dict\\_\\_ value is not set.  Let's explore that a little further though.  "
   ]
  },
  {
   "cell_type": "code",
   "execution_count": 9,
   "metadata": {
    "ExecuteTime": {
     "end_time": "2021-05-22T04:10:02.082462Z",
     "start_time": "2021-05-22T04:10:02.065831Z"
    }
   },
   "outputs": [
    {
     "ename": "AttributeError",
     "evalue": "'A1' object has no attribute '__dict__'",
     "output_type": "error",
     "traceback": [
      "\u001b[0;31m---------------------------------------------------------------------------\u001b[0m",
      "\u001b[0;31mAttributeError\u001b[0m                            Traceback (most recent call last)",
      "\u001b[0;32m<ipython-input-9-79636e85e82f>\u001b[0m in \u001b[0;36m<module>\u001b[0;34m\u001b[0m\n\u001b[0;32m----> 1\u001b[0;31m \u001b[0ma1\u001b[0m\u001b[0;34m.\u001b[0m\u001b[0m__dict__\u001b[0m\u001b[0;34m\u001b[0m\u001b[0;34m\u001b[0m\u001b[0m\n\u001b[0m",
      "\u001b[0;31mAttributeError\u001b[0m: 'A1' object has no attribute '__dict__'"
     ]
    }
   ],
   "source": [
    "a1.__dict__"
   ]
  },
  {
   "cell_type": "markdown",
   "metadata": {},
   "source": [
    "## Example #2a: Exploring \\_\\_dict\\_\\_ Without Using \\_\\_slots\\_\\_"
   ]
  },
  {
   "cell_type": "code",
   "execution_count": 10,
   "metadata": {
    "ExecuteTime": {
     "end_time": "2021-05-22T04:10:03.184835Z",
     "start_time": "2021-05-22T04:10:03.178527Z"
    }
   },
   "outputs": [],
   "source": [
    "class A2A:\n",
    "    def __init__(self, value_passed_through_here):\n",
    "        self.var1 = value_passed_through_here"
   ]
  },
  {
   "cell_type": "code",
   "execution_count": 11,
   "metadata": {
    "ExecuteTime": {
     "end_time": "2021-05-22T04:10:04.023505Z",
     "start_time": "2021-05-22T04:10:04.018166Z"
    }
   },
   "outputs": [],
   "source": [
    "a2a = A2A(1)"
   ]
  },
  {
   "cell_type": "markdown",
   "metadata": {},
   "source": [
    "var1 shows up as expected when creating an object"
   ]
  },
  {
   "cell_type": "code",
   "execution_count": 12,
   "metadata": {
    "ExecuteTime": {
     "end_time": "2021-05-22T04:10:05.154985Z",
     "start_time": "2021-05-22T04:10:05.146510Z"
    }
   },
   "outputs": [
    {
     "data": {
      "text/plain": [
       "{'var1': 1}"
      ]
     },
     "execution_count": 12,
     "metadata": {},
     "output_type": "execute_result"
    }
   ],
   "source": [
    "a2a.__dict__"
   ]
  },
  {
   "cell_type": "code",
   "execution_count": 13,
   "metadata": {
    "ExecuteTime": {
     "end_time": "2021-05-22T04:10:08.177462Z",
     "start_time": "2021-05-22T04:10:08.175975Z"
    }
   },
   "outputs": [],
   "source": [
    "a2a.var2 = 'adding a second thing'"
   ]
  },
  {
   "cell_type": "markdown",
   "metadata": {},
   "source": [
    "Adding a second variable adds it to the \\_\\_dict\\_\\_ as expected"
   ]
  },
  {
   "cell_type": "code",
   "execution_count": 14,
   "metadata": {
    "ExecuteTime": {
     "end_time": "2021-05-22T04:10:09.191826Z",
     "start_time": "2021-05-22T04:10:09.186581Z"
    }
   },
   "outputs": [
    {
     "data": {
      "text/plain": [
       "{'var1': 1, 'var2': 'adding a second thing'}"
      ]
     },
     "execution_count": 14,
     "metadata": {},
     "output_type": "execute_result"
    }
   ],
   "source": [
    "a2a.__dict__"
   ]
  },
  {
   "cell_type": "markdown",
   "metadata": {},
   "source": [
    "## Example #2b: Exploring \\_\\_dict\\_\\_ When Using \\_\\_slots\\_\\_"
   ]
  },
  {
   "cell_type": "code",
   "execution_count": 15,
   "metadata": {
    "ExecuteTime": {
     "end_time": "2021-05-22T04:10:13.455794Z",
     "start_time": "2021-05-22T04:10:13.450720Z"
    }
   },
   "outputs": [],
   "source": [
    "class A2B:\n",
    "    __slots__ = ['var1', '__dict__']\n",
    "    def __init__(self, value_passed_through_here):\n",
    "        self.var1 = value_passed_through_here"
   ]
  },
  {
   "cell_type": "code",
   "execution_count": 16,
   "metadata": {
    "ExecuteTime": {
     "end_time": "2021-05-22T04:10:13.952542Z",
     "start_time": "2021-05-22T04:10:13.950952Z"
    }
   },
   "outputs": [],
   "source": [
    "a2b = A2B(1)"
   ]
  },
  {
   "cell_type": "code",
   "execution_count": 17,
   "metadata": {
    "ExecuteTime": {
     "end_time": "2021-05-22T04:10:14.475862Z",
     "start_time": "2021-05-22T04:10:14.473743Z"
    }
   },
   "outputs": [
    {
     "data": {
      "text/plain": [
       "{}"
      ]
     },
     "execution_count": 17,
     "metadata": {},
     "output_type": "execute_result"
    }
   ],
   "source": [
    "a2b.__dict__"
   ]
  },
  {
   "cell_type": "markdown",
   "metadata": {},
   "source": [
    "\\_\\_dict\\_\\_ exists now since we added it to \\_\\_slots\\_\\_, **but it isn't populating the \\_\\_dict\\_\\_ like normal**.  We are still able to call the attribute `var1` though."
   ]
  },
  {
   "cell_type": "code",
   "execution_count": 18,
   "metadata": {
    "ExecuteTime": {
     "end_time": "2021-05-22T04:10:49.280872Z",
     "start_time": "2021-05-22T04:10:49.272605Z"
    }
   },
   "outputs": [
    {
     "data": {
      "text/plain": [
       "1"
      ]
     },
     "execution_count": 18,
     "metadata": {},
     "output_type": "execute_result"
    }
   ],
   "source": [
    "a2b.var1"
   ]
  },
  {
   "cell_type": "code",
   "execution_count": 19,
   "metadata": {
    "ExecuteTime": {
     "end_time": "2021-05-22T04:10:59.104566Z",
     "start_time": "2021-05-22T04:10:59.103003Z"
    }
   },
   "outputs": [],
   "source": [
    "a2b.var2 = \"test if we can add new variables now\""
   ]
  },
  {
   "cell_type": "markdown",
   "metadata": {},
   "source": [
    "Surprisingly, once we add \\_\\_dict\\_\\_ to the \\_\\_slots\\_\\_ list, adding a new var works."
   ]
  },
  {
   "cell_type": "code",
   "execution_count": 20,
   "metadata": {
    "ExecuteTime": {
     "end_time": "2021-05-22T04:11:05.009673Z",
     "start_time": "2021-05-22T04:11:05.000176Z"
    }
   },
   "outputs": [
    {
     "data": {
      "text/plain": [
       "{'var2': 'test if we can add new variables now'}"
      ]
     },
     "execution_count": 20,
     "metadata": {},
     "output_type": "execute_result"
    }
   ],
   "source": [
    "a2b.__dict__"
   ]
  },
  {
   "cell_type": "markdown",
   "metadata": {},
   "source": [
    "When we look at \\_\\_dict\\_\\_ after adding var2, there is an entry in \\_\\_dict\\_\\_ as well.  "
   ]
  },
  {
   "cell_type": "code",
   "execution_count": 21,
   "metadata": {
    "ExecuteTime": {
     "end_time": "2021-05-22T04:11:09.165546Z",
     "start_time": "2021-05-22T04:11:09.156521Z"
    }
   },
   "outputs": [
    {
     "data": {
      "text/plain": [
       "'test if we can add new variables now'"
      ]
     },
     "execution_count": 21,
     "metadata": {},
     "output_type": "execute_result"
    }
   ],
   "source": [
    "a2b.var2"
   ]
  },
  {
   "cell_type": "markdown",
   "metadata": {},
   "source": [
    "So if we enable \\_\\_dict\\_\\_ we are able to add new items to the \\_\\_dict\\_\\_, but \\_\\_dict\\_\\_ has to be explicitly defined to work.  "
   ]
  },
  {
   "cell_type": "markdown",
   "metadata": {},
   "source": [
    "## Example 3: Inheritance"
   ]
  },
  {
   "cell_type": "markdown",
   "metadata": {},
   "source": [
    "Now that we've explored \\_\\_slots\\_\\_, let's see how it behaves when one class is inherited from another.  "
   ]
  },
  {
   "cell_type": "code",
   "execution_count": 22,
   "metadata": {
    "ExecuteTime": {
     "end_time": "2021-05-22T04:11:15.628432Z",
     "start_time": "2021-05-22T04:11:15.626538Z"
    }
   },
   "outputs": [],
   "source": [
    "class A3:\n",
    "    __slots__ = ['a']\n",
    "    def __init__(self, a):\n",
    "        self.a = a"
   ]
  },
  {
   "cell_type": "code",
   "execution_count": 23,
   "metadata": {
    "ExecuteTime": {
     "end_time": "2021-05-22T04:11:16.173852Z",
     "start_time": "2021-05-22T04:11:16.164815Z"
    }
   },
   "outputs": [
    {
     "data": {
      "text/plain": [
       "1"
      ]
     },
     "execution_count": 23,
     "metadata": {},
     "output_type": "execute_result"
    }
   ],
   "source": [
    "a3 = A3(1); a3.a"
   ]
  },
  {
   "cell_type": "code",
   "execution_count": 24,
   "metadata": {
    "ExecuteTime": {
     "end_time": "2021-05-22T04:11:16.636861Z",
     "start_time": "2021-05-22T04:11:16.631933Z"
    }
   },
   "outputs": [],
   "source": [
    "class B3A(A3):\n",
    "    def __init__(self):\n",
    "        self.a = 1\n",
    "        self.b = 2"
   ]
  },
  {
   "cell_type": "code",
   "execution_count": 25,
   "metadata": {
    "ExecuteTime": {
     "end_time": "2021-05-22T04:11:17.147002Z",
     "start_time": "2021-05-22T04:11:17.141296Z"
    }
   },
   "outputs": [],
   "source": [
    "b3a = B3A()"
   ]
  },
  {
   "cell_type": "code",
   "execution_count": 26,
   "metadata": {
    "ExecuteTime": {
     "end_time": "2021-05-22T04:11:17.581150Z",
     "start_time": "2021-05-22T04:11:17.572325Z"
    }
   },
   "outputs": [
    {
     "data": {
      "text/plain": [
       "['a']"
      ]
     },
     "execution_count": 26,
     "metadata": {},
     "output_type": "execute_result"
    }
   ],
   "source": [
    "b3a.__slots__"
   ]
  },
  {
   "cell_type": "code",
   "execution_count": 27,
   "metadata": {
    "ExecuteTime": {
     "end_time": "2021-05-22T04:11:18.272944Z",
     "start_time": "2021-05-22T04:11:18.264518Z"
    }
   },
   "outputs": [
    {
     "data": {
      "text/plain": [
       "{'b': 2}"
      ]
     },
     "execution_count": 27,
     "metadata": {},
     "output_type": "execute_result"
    }
   ],
   "source": [
    "b3a.__dict__"
   ]
  },
  {
   "cell_type": "code",
   "execution_count": 28,
   "metadata": {
    "ExecuteTime": {
     "end_time": "2021-05-22T04:11:19.310982Z",
     "start_time": "2021-05-22T04:11:19.302464Z"
    }
   },
   "outputs": [
    {
     "data": {
      "text/plain": [
       "1"
      ]
     },
     "execution_count": 28,
     "metadata": {},
     "output_type": "execute_result"
    }
   ],
   "source": [
    "b3a.a"
   ]
  },
  {
   "cell_type": "code",
   "execution_count": 29,
   "metadata": {
    "ExecuteTime": {
     "end_time": "2021-05-22T04:11:21.215369Z",
     "start_time": "2021-05-22T04:11:21.209751Z"
    }
   },
   "outputs": [],
   "source": [
    "b3a.c = \"can I set c?\""
   ]
  },
  {
   "cell_type": "code",
   "execution_count": 30,
   "metadata": {
    "ExecuteTime": {
     "end_time": "2021-05-22T04:11:21.238284Z",
     "start_time": "2021-05-22T04:11:21.220271Z"
    },
    "scrolled": true
   },
   "outputs": [
    {
     "data": {
      "text/plain": [
       "{'b': 2, 'c': 'can I set c?'}"
      ]
     },
     "execution_count": 30,
     "metadata": {},
     "output_type": "execute_result"
    }
   ],
   "source": [
    "b3a.__dict__"
   ]
  },
  {
   "cell_type": "markdown",
   "metadata": {},
   "source": [
    "So when `B3A` is inherited from `A3`, it uses the __slots__ class, but it also reverts back in a lot of ways to a normal, non-slots, class again.  The last thing I'm going to try is actually setting a `__slots__` in `B3B` just to see what happens"
   ]
  },
  {
   "cell_type": "code",
   "execution_count": 31,
   "metadata": {
    "ExecuteTime": {
     "end_time": "2021-05-22T04:11:22.988086Z",
     "start_time": "2021-05-22T04:11:22.983603Z"
    }
   },
   "outputs": [],
   "source": [
    "class B3B(A3):\n",
    "    __slots__ = ['a','b']\n",
    "    def __init__(self):\n",
    "        self.a = 1\n",
    "        self.b = 2"
   ]
  },
  {
   "cell_type": "code",
   "execution_count": 32,
   "metadata": {
    "ExecuteTime": {
     "end_time": "2021-05-22T04:11:23.730737Z",
     "start_time": "2021-05-22T04:11:23.729130Z"
    }
   },
   "outputs": [],
   "source": [
    "b3b = B3B()"
   ]
  },
  {
   "cell_type": "code",
   "execution_count": 33,
   "metadata": {
    "ExecuteTime": {
     "end_time": "2021-05-22T04:11:24.657220Z",
     "start_time": "2021-05-22T04:11:24.642175Z"
    }
   },
   "outputs": [
    {
     "ename": "AttributeError",
     "evalue": "'B3B' object has no attribute 'c'",
     "output_type": "error",
     "traceback": [
      "\u001b[0;31m---------------------------------------------------------------------------\u001b[0m",
      "\u001b[0;31mAttributeError\u001b[0m                            Traceback (most recent call last)",
      "\u001b[0;32m<ipython-input-33-032b9cd26579>\u001b[0m in \u001b[0;36m<module>\u001b[0;34m\u001b[0m\n\u001b[0;32m----> 1\u001b[0;31m \u001b[0mb3b\u001b[0m\u001b[0;34m.\u001b[0m\u001b[0mc\u001b[0m \u001b[0;34m=\u001b[0m \u001b[0;34m\"can I set this?\"\u001b[0m\u001b[0;34m\u001b[0m\u001b[0;34m\u001b[0m\u001b[0m\n\u001b[0m",
      "\u001b[0;31mAttributeError\u001b[0m: 'B3B' object has no attribute 'c'"
     ]
    }
   ],
   "source": [
    "b3b.c = \"can I set this?\""
   ]
  },
  {
   "cell_type": "markdown",
   "metadata": {},
   "source": [
    "So now that we have given `B3B` a `__slots__` it is no longer able to behave the same way that `B3A` is.  "
   ]
  },
  {
   "cell_type": "markdown",
   "metadata": {},
   "source": [
    "## Conclusion"
   ]
  },
  {
   "cell_type": "markdown",
   "metadata": {},
   "source": [
    "\\_\\_slots\\_\\_ is an interesting concept that is built into Python that I hadn't heard of and wanted to explore.  Hopefully this notebook is informative to other Python users as well.  Things didn't always behave as I would have expected and that's part of the fun of actually testing out the code to see how things work in practice.  "
   ]
  },
  {
   "cell_type": "code",
   "execution_count": null,
   "metadata": {},
   "outputs": [],
   "source": []
  }
 ],
 "metadata": {
  "kernelspec": {
   "display_name": "tf2",
   "language": "python",
   "name": "tf2"
  },
  "language_info": {
   "codemirror_mode": {
    "name": "ipython",
    "version": 3
   },
   "file_extension": ".py",
   "mimetype": "text/x-python",
   "name": "python",
   "nbconvert_exporter": "python",
   "pygments_lexer": "ipython3",
   "version": "3.8.8"
  },
  "toc": {
   "base_numbering": 1,
   "nav_menu": {},
   "number_sections": false,
   "sideBar": true,
   "skip_h1_title": false,
   "title_cell": "Table of Contents",
   "title_sidebar": "Contents",
   "toc_cell": false,
   "toc_position": {},
   "toc_section_display": true,
   "toc_window_display": true
  }
 },
 "nbformat": 4,
 "nbformat_minor": 4
}
