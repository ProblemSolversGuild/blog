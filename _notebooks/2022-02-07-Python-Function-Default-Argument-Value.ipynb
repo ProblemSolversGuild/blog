{
 "cells": [
  {
   "cell_type": "markdown",
   "metadata": {},
   "source": [
    "# \"Python Function Default Argument Value\"\n",
    "> \"Exploring an unexpected Python behavior that could cause your program to behave inconsistently\"\n",
    "\n",
    "- toc: true\n",
    "- branch: master\n",
    "- badges: true\n",
    "- comments: true\n",
    "- author: Kevin Bird\n",
    "- categories: [python, technical, exploration]"
   ]
  },
  {
   "cell_type": "markdown",
   "metadata": {},
   "source": [
    "## Introduction"
   ]
  },
  {
   "cell_type": "markdown",
   "metadata": {},
   "source": [
    "This post is an exploration into when a python function gets the default argument from a function signature.  Here is the scenario that got me to this point:  \n",
    "\n",
    "I had a chunk of code that had a filename defined."
   ]
  },
  {
   "cell_type": "code",
   "execution_count": 1,
   "metadata": {
    "ExecuteTime": {
     "end_time": "2022-02-03T03:00:58.162797Z",
     "start_time": "2022-02-03T03:00:58.154547Z"
    }
   },
   "outputs": [],
   "source": [
    "from datetime import datetime\n",
    "from time import sleep\n",
    "\n",
    "def save_file_w_timestamp(filename=f'{datetime.now().isoformat()}/file.csv'):\n",
    "    print(filename)"
   ]
  },
  {
   "cell_type": "code",
   "execution_count": 2,
   "metadata": {
    "ExecuteTime": {
     "end_time": "2022-02-03T03:01:03.185998Z",
     "start_time": "2022-02-03T03:00:58.167536Z"
    }
   },
   "outputs": [
    {
     "name": "stdout",
     "output_type": "stream",
     "text": [
      "2022-02-02T21:00:58.160733/file.csv\n",
      "2022-02-02T21:00:58.160733/file.csv\n"
     ]
    }
   ],
   "source": [
    "save_file_w_timestamp()\n",
    "sleep(5)\n",
    "save_file_w_timestamp()"
   ]
  },
  {
   "cell_type": "markdown",
   "metadata": {},
   "source": [
    "My initial thought was that these two function calls would return the time that the function was called, but it doesn't.  That is what we will explore in this blog post.  \n",
    "\n",
    "Let's explore how to make this work as expected."
   ]
  },
  {
   "cell_type": "markdown",
   "metadata": {},
   "source": [
    "## If you're in a hurry:"
   ]
  },
  {
   "cell_type": "code",
   "execution_count": 3,
   "metadata": {
    "ExecuteTime": {
     "end_time": "2022-02-03T03:01:03.189930Z",
     "start_time": "2022-02-03T03:01:03.188232Z"
    }
   },
   "outputs": [],
   "source": [
    "def save_file_w_None(filename=None):\n",
    "    if filename is None: filename=f'{datetime.now().isoformat()}/file.csv'\n",
    "    print(filename)"
   ]
  },
  {
   "cell_type": "markdown",
   "metadata": {},
   "source": [
    "## Failed Attempt #1: passing through a function"
   ]
  },
  {
   "cell_type": "code",
   "execution_count": 4,
   "metadata": {
    "ExecuteTime": {
     "end_time": "2022-02-03T03:01:03.199767Z",
     "start_time": "2022-02-03T03:01:03.190932Z"
    }
   },
   "outputs": [],
   "source": [
    "def get_current_datetime():\n",
    "    return datetime.now().isoformat()\n",
    "\n",
    "def save_file_w_timestamp(filename=f'{get_current_datetime()}/file.csv'):\n",
    "    print(filename)"
   ]
  },
  {
   "cell_type": "code",
   "execution_count": 6,
   "metadata": {
    "ExecuteTime": {
     "end_time": "2022-02-03T03:01:13.629737Z",
     "start_time": "2022-02-03T03:01:08.622453Z"
    }
   },
   "outputs": [
    {
     "name": "stdout",
     "output_type": "stream",
     "text": [
      "2022-02-02T21:01:03.198774/file.csv\n",
      "2022-02-02T21:01:03.198774/file.csv\n"
     ]
    }
   ],
   "source": [
    "save_file_w_timestamp()\n",
    "sleep(5)\n",
    "save_file_w_timestamp()"
   ]
  },
  {
   "cell_type": "markdown",
   "metadata": {},
   "source": [
    "## Attempt #2: Brute force"
   ]
  },
  {
   "cell_type": "code",
   "execution_count": 7,
   "metadata": {
    "ExecuteTime": {
     "end_time": "2022-02-03T03:01:13.643930Z",
     "start_time": "2022-02-03T03:01:13.635639Z"
    }
   },
   "outputs": [],
   "source": [
    "def save_file_w_timestamp(filename=None):\n",
    "    if filename is None: filename=f'{datetime.now().isoformat()}/file.csv'\n",
    "    print(filename)"
   ]
  },
  {
   "cell_type": "code",
   "execution_count": 9,
   "metadata": {
    "ExecuteTime": {
     "end_time": "2022-02-03T03:01:22.714379Z",
     "start_time": "2022-02-03T03:01:17.706803Z"
    }
   },
   "outputs": [
    {
     "name": "stdout",
     "output_type": "stream",
     "text": [
      "2022-02-02T21:01:17.708874/file.csv\n",
      "2022-02-02T21:01:22.712349/file.csv\n"
     ]
    }
   ],
   "source": [
    "save_file_w_timestamp()\n",
    "sleep(5)\n",
    "save_file_w_timestamp()"
   ]
  },
  {
   "cell_type": "markdown",
   "metadata": {},
   "source": [
    "## Exciting Attempt #3: Mutable Madness"
   ]
  },
  {
   "cell_type": "markdown",
   "metadata": {},
   "source": [
    "This third example surprised me a lot (thank you to miwojc on the fastai discord for bringing it to my attention!).  If you have an empty list as your default value, it seems innocent enough.  Naive Kevin from yesterday would have assumed that this code would create an empty list if x was not passed.  Naive Kevin would be sadly mistaken.  This is a really good example of what is actually happening above.  This creates a variable `x` that *starts* as an empty list, but let's see what happens when we call the function."
   ]
  },
  {
   "cell_type": "code",
   "execution_count": 26,
   "metadata": {
    "ExecuteTime": {
     "end_time": "2022-02-04T04:04:49.819732Z",
     "start_time": "2022-02-04T04:04:49.813011Z"
    }
   },
   "outputs": [],
   "source": [
    "def mutable_madness(x=[]):\n",
    "    x.append(1)\n",
    "    print(x)"
   ]
  },
  {
   "cell_type": "code",
   "execution_count": 27,
   "metadata": {
    "ExecuteTime": {
     "end_time": "2022-02-04T04:04:50.827273Z",
     "start_time": "2022-02-04T04:04:50.819190Z"
    }
   },
   "outputs": [
    {
     "name": "stdout",
     "output_type": "stream",
     "text": [
      "[1]\n"
     ]
    }
   ],
   "source": [
    "mutable_madness()"
   ]
  },
  {
   "cell_type": "markdown",
   "metadata": {},
   "source": [
    "What do you think the value is going to be here?"
   ]
  },
  {
   "cell_type": "code",
   "execution_count": 28,
   "metadata": {
    "ExecuteTime": {
     "end_time": "2022-02-04T04:04:59.988969Z",
     "start_time": "2022-02-04T04:04:59.986333Z"
    }
   },
   "outputs": [
    {
     "name": "stdout",
     "output_type": "stream",
     "text": [
      "[1, 1]\n"
     ]
    }
   ],
   "source": [
    "#collapse_output\n",
    "mutable_madness()"
   ]
  },
  {
   "cell_type": "markdown",
   "metadata": {},
   "source": [
    "How about if we pass an empty list in?"
   ]
  },
  {
   "cell_type": "code",
   "execution_count": 24,
   "metadata": {
    "ExecuteTime": {
     "end_time": "2022-02-03T03:05:28.013571Z",
     "start_time": "2022-02-03T03:05:28.006858Z"
    }
   },
   "outputs": [
    {
     "name": "stdout",
     "output_type": "stream",
     "text": [
      "[1]\n"
     ]
    }
   ],
   "source": [
    "#collapse_output\n",
    "mutable_madness([])"
   ]
  },
  {
   "cell_type": "markdown",
   "metadata": {},
   "source": [
    "And what about now?"
   ]
  },
  {
   "cell_type": "code",
   "execution_count": 29,
   "metadata": {
    "ExecuteTime": {
     "end_time": "2022-02-04T04:06:49.054106Z",
     "start_time": "2022-02-04T04:06:49.052434Z"
    },
    "scrolled": true
   },
   "outputs": [
    {
     "name": "stdout",
     "output_type": "stream",
     "text": [
      "[1, 1, 1]\n"
     ]
    }
   ],
   "source": [
    "#collapse_output\n",
    "mutable_madness()"
   ]
  },
  {
   "cell_type": "markdown",
   "metadata": {},
   "source": [
    "I got all of these wrong when I was initially coding this so if it doesn't seem intuitive to you, just know you aren't alone.  This is a fairly common gotcha that can lead to frustrating bugs.  Here is another good blog post for further reading: https://docs.python-guide.org/writing/gotchas/."
   ]
  },
  {
   "cell_type": "markdown",
   "metadata": {},
   "source": [
    "Just to explore a few more ideas from this concept, I am going to add a few more examples below.  "
   ]
  },
  {
   "cell_type": "code",
   "execution_count": 94,
   "metadata": {
    "ExecuteTime": {
     "end_time": "2022-02-04T04:29:42.212053Z",
     "start_time": "2022-02-04T04:29:42.210129Z"
    }
   },
   "outputs": [],
   "source": [
    "j=1\n",
    "def immutable_nonmadness(y=j):\n",
    "    #global j #This could be added to allow j to be used inside and outside the function.  \n",
    "    y+=1\n",
    "    print(y)"
   ]
  },
  {
   "cell_type": "markdown",
   "metadata": {},
   "source": [
    "My initial thought with this example was that `j` would keep incrementing because we are setting `j` inside of our function.  This is actually a good lesson about context which I won't get into a ton except to mention that the `j` in line 1 and line 2 are the same `j` and the j in line 3 is a different j which is only accessible inside of the function.  If we wanted this to behave similarly to the functions above which kept using the default value from above, the `global` argument would need to be added but this really is using a different concept to keep incrementing the value once we introduce global.  "
   ]
  },
  {
   "cell_type": "code",
   "execution_count": 95,
   "metadata": {
    "ExecuteTime": {
     "end_time": "2022-02-04T04:29:43.349048Z",
     "start_time": "2022-02-04T04:29:43.346195Z"
    }
   },
   "outputs": [
    {
     "name": "stdout",
     "output_type": "stream",
     "text": [
      "2\n"
     ]
    }
   ],
   "source": [
    "immutable_nonmadness()"
   ]
  },
  {
   "cell_type": "code",
   "execution_count": 96,
   "metadata": {
    "ExecuteTime": {
     "end_time": "2022-02-04T04:29:43.868253Z",
     "start_time": "2022-02-04T04:29:43.866523Z"
    }
   },
   "outputs": [
    {
     "name": "stdout",
     "output_type": "stream",
     "text": [
      "2\n"
     ]
    }
   ],
   "source": [
    "#collapse_output\n",
    "immutable_nonmadness()"
   ]
  },
  {
   "cell_type": "markdown",
   "metadata": {},
   "source": [
    "In this example, because the value 1 is an **immutable** object, it doesn't hold onto the previous value but if instead, we had put an empty list in `j`, it would act the same way as the examples from above.  This is because a variable is neither mutable nor immutable.  A variable is give its type and therefor its mutability based on the object it is storing."
   ]
  },
  {
   "cell_type": "code",
   "execution_count": 97,
   "metadata": {
    "ExecuteTime": {
     "end_time": "2022-02-04T04:29:46.074914Z",
     "start_time": "2022-02-04T04:29:46.068673Z"
    }
   },
   "outputs": [],
   "source": [
    "j=[]\n",
    "def function_1(y=j):\n",
    "    y+=[1]\n",
    "    print(y)"
   ]
  },
  {
   "cell_type": "code",
   "execution_count": 98,
   "metadata": {
    "ExecuteTime": {
     "end_time": "2022-02-04T04:29:46.245458Z",
     "start_time": "2022-02-04T04:29:46.243445Z"
    }
   },
   "outputs": [
    {
     "name": "stdout",
     "output_type": "stream",
     "text": [
      "[1]\n"
     ]
    }
   ],
   "source": [
    "function_1()"
   ]
  },
  {
   "cell_type": "code",
   "execution_count": 99,
   "metadata": {
    "ExecuteTime": {
     "end_time": "2022-02-04T04:29:46.499601Z",
     "start_time": "2022-02-04T04:29:46.492810Z"
    }
   },
   "outputs": [
    {
     "name": "stdout",
     "output_type": "stream",
     "text": [
      "[1, 1]\n"
     ]
    }
   ],
   "source": [
    "function_1()"
   ]
  },
  {
   "cell_type": "markdown",
   "metadata": {},
   "source": [
    "This behavior will happen with lists, dicts, sets, and most custom classes.  "
   ]
  },
  {
   "cell_type": "code",
   "execution_count": 103,
   "metadata": {
    "ExecuteTime": {
     "end_time": "2022-02-04T04:34:13.152283Z",
     "start_time": "2022-02-04T04:34:13.145928Z"
    }
   },
   "outputs": [],
   "source": [
    "def function_dict(value, x={}):\n",
    "    x[value] = len(x)\n",
    "    print(x)"
   ]
  },
  {
   "cell_type": "code",
   "execution_count": 104,
   "metadata": {
    "ExecuteTime": {
     "end_time": "2022-02-04T04:34:13.827527Z",
     "start_time": "2022-02-04T04:34:13.820692Z"
    }
   },
   "outputs": [
    {
     "name": "stdout",
     "output_type": "stream",
     "text": [
      "{'thing 0': 0}\n"
     ]
    }
   ],
   "source": [
    "function_dict('thing 0')"
   ]
  },
  {
   "cell_type": "code",
   "execution_count": 105,
   "metadata": {
    "ExecuteTime": {
     "end_time": "2022-02-04T04:34:14.745841Z",
     "start_time": "2022-02-04T04:34:14.743971Z"
    }
   },
   "outputs": [
    {
     "name": "stdout",
     "output_type": "stream",
     "text": [
      "{'thing 0': 0, 'thing 1': 1}\n"
     ]
    }
   ],
   "source": [
    "function_dict('thing 1')"
   ]
  },
  {
   "cell_type": "code",
   "execution_count": 110,
   "metadata": {
    "ExecuteTime": {
     "end_time": "2022-02-04T04:35:58.817572Z",
     "start_time": "2022-02-04T04:35:58.809646Z"
    }
   },
   "outputs": [],
   "source": [
    "def function_set(value, x=set()):\n",
    "    x.add(value)\n",
    "    print(x)"
   ]
  },
  {
   "cell_type": "code",
   "execution_count": 111,
   "metadata": {
    "ExecuteTime": {
     "end_time": "2022-02-04T04:35:58.995276Z",
     "start_time": "2022-02-04T04:35:58.988100Z"
    }
   },
   "outputs": [
    {
     "name": "stdout",
     "output_type": "stream",
     "text": [
      "{'thing 0'}\n"
     ]
    }
   ],
   "source": [
    "function_set('thing 0')"
   ]
  },
  {
   "cell_type": "code",
   "execution_count": 112,
   "metadata": {
    "ExecuteTime": {
     "end_time": "2022-02-04T04:35:59.231700Z",
     "start_time": "2022-02-04T04:35:59.228832Z"
    }
   },
   "outputs": [
    {
     "name": "stdout",
     "output_type": "stream",
     "text": [
      "{'thing 0', 'thing 1'}\n"
     ]
    }
   ],
   "source": [
    "function_set('thing 1')"
   ]
  },
  {
   "cell_type": "markdown",
   "metadata": {},
   "source": [
    "I hope you learned something going through this blog post and if you take one thing away from this it is to be mindful when setting your default arguments.  "
   ]
  }
 ],
 "metadata": {
  "_draft": {
   "nbviewer_url": "https://gist.github.com/70b91cfb23ec804d33a08f98103ab2f9"
  },
  "gist": {
   "data": {
    "description": "Research/Transformer/TextPloration.ipynb",
    "public": false
   },
   "id": "70b91cfb23ec804d33a08f98103ab2f9"
  },
  "kernelspec": {
   "display_name": "tf2",
   "language": "python",
   "name": "tf2"
  },
  "language_info": {
   "codemirror_mode": {
    "name": "ipython",
    "version": 3
   },
   "file_extension": ".py",
   "mimetype": "text/x-python",
   "name": "python",
   "nbconvert_exporter": "python",
   "pygments_lexer": "ipython3",
   "version": "3.8.11"
  },
  "toc": {
   "base_numbering": 1,
   "nav_menu": {},
   "number_sections": false,
   "sideBar": true,
   "skip_h1_title": false,
   "title_cell": "Table of Contents",
   "title_sidebar": "Contents",
   "toc_cell": false,
   "toc_position": {},
   "toc_section_display": true,
   "toc_window_display": true
  }
 },
 "nbformat": 4,
 "nbformat_minor": 4
}
