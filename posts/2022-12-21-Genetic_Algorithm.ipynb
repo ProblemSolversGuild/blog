{
 "cells": [
  {
   "cell_type": "markdown",
   "id": "c214c8cc",
   "metadata": {},
   "source": [
    "---\n",
    "aliases:\n",
    "- /technical/ChatGPT/2022/12/21/genetic-algorithm-intro\n",
    "author: Kevin Bird\n",
    "badges: true\n",
    "branch: master\n",
    "categories:\n",
    "- technical\n",
    "- ChatGPT\n",
    "date: '2022-12-21'\n",
    "description: A walkthrough of genetic algorithms generated using ChatGPT\n",
    "output-file: 2022-12-21-genetic_algorithm.html\n",
    "title: Genetic Algorithm Intro\n",
    "toc: true\n",
    "---"
   ]
  },
  {
   "cell_type": "markdown",
   "id": "3aeabfca",
   "metadata": {},
   "source": [
    "# Genetic Algorithms"
   ]
  },
  {
   "cell_type": "code",
   "execution_count": 19,
   "id": "b9c2b4ab",
   "metadata": {
    "ExecuteTime": {
     "end_time": "2022-12-21T16:29:44.961926Z",
     "start_time": "2022-12-21T16:29:44.959262Z"
    }
   },
   "outputs": [],
   "source": [
    "import random\n",
    "from typing import List, Callable\n",
    "from copy import deepcopy"
   ]
  },
  {
   "cell_type": "markdown",
   "id": "666a3135",
   "metadata": {},
   "source": [
    "## Introduction"
   ]
  },
  {
   "cell_type": "markdown",
   "id": "85539bf0",
   "metadata": {},
   "source": [
    "Have you ever faced a problem that seemed impossible to solve? Perhaps you were trying to optimize a manufacturing process, find the shortest path between two points, or design a new product. These types of problems can be difficult to solve using traditional algorithms, especially when the solution space is large or the problem is unstructured. This is where genetic algorithms come in.\n",
    "\n",
    "A genetic algorithm is a heuristic optimization technique that is inspired by the process of natural evolution. It is a metaheuristic, which means that it is a high-level algorithm that is used to guide other algorithms.\n",
    "\n",
    "Genetic algorithms are used to solve a wide range of problems, from simple optimization problems to complex machine learning tasks. They are particularly useful for solving problems that have a large solution space, such as finding the shortest path in a graph or optimizing the parameters of a machine learning model.\n",
    "\n",
    "So, how do genetic algorithms work? In a nutshell, they generate a population of candidate solutions, evaluate the fitness of each individual, select the fittest individuals for reproduction, generate offspring through crossover and mutation, and replace the weakest individuals. This process is repeated until a satisfactory solution is found or a predetermined number of iterations has been reached.\n",
    "\n",
    "In this article, we will look at the key components of a genetic algorithm and see how they work together to solve complex problems. We will also explore some of the key considerations when designing a genetic algorithm, such as representation, fitness function, selection, crossover, and mutation."
   ]
  },
  {
   "cell_type": "markdown",
   "id": "2f808e63",
   "metadata": {},
   "source": [
    "## Initialize the population"
   ]
  },
  {
   "cell_type": "markdown",
   "id": "0059bb1a",
   "metadata": {},
   "source": [
    "A population of candidate solutions (also known as individuals or chromosomes) is generated randomly. Each individual represents a potential solution to the problem. For example, if the problem is to find the maximum value of a mathematical function, each individual in the population could be a set of input values for the function.\n",
    "\n",
    "The size of the population and the representation of the solutions depend on the problem being solved. For example, if the problem is a simple mathematical optimization problem, each individual could be a single floating-point number. If the problem is more complex, such as finding the shortest path in a graph, each individual could be a list of integers or a string of characters."
   ]
  },
  {
   "cell_type": "markdown",
   "id": "c42dfb81",
   "metadata": {},
   "source": [
    "### initialize_population in code"
   ]
  },
  {
   "cell_type": "markdown",
   "id": "e908b2a3",
   "metadata": {},
   "source": [
    "`initialize_population` takes two integer parameters: `solution_size`, which represents the size of a single solution (i.e., the number of genes), and `population_size`, which represents the size of the population (i.e., the number of solutions). It returns a list of lists containing random integers, representing the initial population."
   ]
  },
  {
   "cell_type": "code",
   "execution_count": 2,
   "id": "f422c7f9",
   "metadata": {
    "ExecuteTime": {
     "end_time": "2022-12-21T16:14:00.595736Z",
     "start_time": "2022-12-21T16:14:00.586216Z"
    }
   },
   "outputs": [],
   "source": [
    "def initialize_population(solution_size: int, population_size: int) -> List[List[int]]:\n",
    "    \"\"\"\n",
    "    Generates a random initial population.\n",
    "\n",
    "    Parameters:\n",
    "    - solution_size: the size of a single solution (number of genes)\n",
    "    - population_size: the size of the population (number of solutions)\n",
    "\n",
    "    Returns:\n",
    "    - A list of lists containing random integers, representing the initial population.\n",
    "    \"\"\"\n",
    "    return [[random.randint(0, 1) for _ in range(solution_size)] for _ in range(population_size)]"
   ]
  },
  {
   "cell_type": "code",
   "execution_count": 3,
   "id": "4f2a3a5b",
   "metadata": {
    "ExecuteTime": {
     "end_time": "2022-12-21T16:14:00.604878Z",
     "start_time": "2022-12-21T16:14:00.597363Z"
    }
   },
   "outputs": [],
   "source": [
    "def test_initialize_population(solution_size, population_size):\n",
    "    population = initialize_population(solution_size, population_size)\n",
    "\n",
    "    # Check that the returned value is a list of lists\n",
    "    assert isinstance(population, list)\n",
    "    assert all(isinstance(x, list) for x in population)\n",
    "\n",
    "    # Check that the list contains 5 lists\n",
    "    assert len(population) == population_size\n",
    "\n",
    "    # Check that each list contains 10 integers\n",
    "    assert all(len(x) == solution_size for x in population)\n",
    "\n",
    "    # Check that each integer is either 0 or 1\n",
    "    assert all(all(x == 0 or x == 1 for x in solution) for solution in population)"
   ]
  },
  {
   "cell_type": "code",
   "execution_count": 4,
   "id": "b0545079",
   "metadata": {
    "ExecuteTime": {
     "end_time": "2022-12-21T16:14:00.616202Z",
     "start_time": "2022-12-21T16:14:00.606496Z"
    }
   },
   "outputs": [],
   "source": [
    "test_initialize_population(5,10)\n",
    "test_initialize_population(10,5)\n",
    "test_initialize_population(0,5)\n",
    "test_initialize_population(5,0)"
   ]
  },
  {
   "cell_type": "code",
   "execution_count": 5,
   "id": "d9ccdf3f",
   "metadata": {
    "ExecuteTime": {
     "end_time": "2022-12-21T16:14:00.628854Z",
     "start_time": "2022-12-21T16:14:00.617469Z"
    }
   },
   "outputs": [],
   "source": [
    "solution_size = 5\n",
    "population_size = 10\n",
    "\n",
    "population = initialize_population(solution_size, population_size)"
   ]
  },
  {
   "cell_type": "markdown",
   "id": "c511d18c",
   "metadata": {},
   "source": [
    "## Evaluate the fitness of each individual"
   ]
  },
  {
   "cell_type": "markdown",
   "id": "f0a0bf4b",
   "metadata": {},
   "source": [
    "The fitness of each individual is evaluated using a fitness function. This function takes an individual as input and returns a score that reflects the quality of the solution represented by that individual.\n",
    "\n",
    "The fitness function should be designed to reflect the goals of the problem. For example, if the problem is to maximize a mathematical function, the fitness function could return the value of the function for a given set of input values. If the problem is to find the shortest path in a graph, the fitness function could return the length of the path."
   ]
  },
  {
   "cell_type": "markdown",
   "id": "e731f8fd",
   "metadata": {},
   "source": [
    "### fitness in code"
   ]
  },
  {
   "cell_type": "markdown",
   "id": "96bcbf5d",
   "metadata": {},
   "source": [
    "`fitness` takes a single parameter, `solution`, which is a list of integers representing a solution. It returns an integer representing the fitness of the solution. In this particular implementation, the fitness is calculated by counting the number of 1s in the solution."
   ]
  },
  {
   "cell_type": "code",
   "execution_count": 6,
   "id": "abb394cb",
   "metadata": {
    "ExecuteTime": {
     "end_time": "2022-12-21T16:14:00.636908Z",
     "start_time": "2022-12-21T16:14:00.630257Z"
    }
   },
   "outputs": [],
   "source": [
    "def fitness(solution: List[int]) -> int:\n",
    "    \"\"\"\n",
    "    Calculates the fitness of a solution.\n",
    "    \n",
    "    Parameters:\n",
    "    - solution: a list of integers representing a solution\n",
    "    \n",
    "    Returns:\n",
    "    - An integer representing the fitness of the solution.\n",
    "    \"\"\"\n",
    "    # Calculate the fitness of the solution\n",
    "    # For example, you could count the number of 1s in the solution\n",
    "    return solution.count(1)"
   ]
  },
  {
   "cell_type": "code",
   "execution_count": 7,
   "id": "bfe18914",
   "metadata": {
    "ExecuteTime": {
     "end_time": "2022-12-21T16:14:00.645330Z",
     "start_time": "2022-12-21T16:14:00.639326Z"
    }
   },
   "outputs": [],
   "source": [
    "# Test with a solution containing all 0s\n",
    "solution = [0, 0, 0, 0, 0]\n",
    "assert fitness(solution) == 0\n",
    "\n",
    "# Test with a solution containing all 1s\n",
    "solution = [1, 1, 1, 1, 1]\n",
    "assert fitness(solution) == 5\n",
    "\n",
    "# Test with a solution containing a mix of 0s and 1s\n",
    "solution = [0, 1, 1, 0, 0]\n",
    "assert fitness(solution) == 2\n",
    "\n",
    "# Test with a solution containing no 1s\n",
    "solution = [0, 0, 0, 'blah', 0]\n",
    "assert fitness(solution) == 0"
   ]
  },
  {
   "cell_type": "markdown",
   "id": "aaebe5d3",
   "metadata": {},
   "source": [
    "## Select the fittest individuals"
   ]
  },
  {
   "cell_type": "markdown",
   "id": "4fd460a9",
   "metadata": {},
   "source": [
    "The fittest individuals in the population are selected for reproduction based on their fitness scores. There are many ways to select the fittest individuals, such as using a ranking selection, tournament selection, or roulette wheel selection.\n",
    "\n",
    "In ranking selection, the individuals are ranked based on their fitness and a probability of selection is assigned to each individual based on its rank. The fittest individuals have a higher probability of being selected.\n",
    "\n",
    "In tournament selection, a group of individuals is selected at random and the fittest individual from the group is chosen for reproduction.\n",
    "\n",
    "In roulette wheel selection, the probability of selection is proportional to the fitness of the individual. The higher the fitness, the higher the probability of selection."
   ]
  },
  {
   "cell_type": "markdown",
   "id": "504843d8",
   "metadata": {},
   "source": [
    "### selection in code"
   ]
  },
  {
   "cell_type": "markdown",
   "id": "b135ebb1",
   "metadata": {},
   "source": [
    "`selection` takes two parameters: `population`, which is a list of lists representing the population, and `fitness_fn`, which is a function that calculates the fitness of a solution. It returns a list of the fittest individuals in the population.\n",
    "\n",
    "It does this by sorting the population by fitness using the fitness_fn function as the key, and then selecting the top half of the population (i.e., the individuals with the highest fitness)."
   ]
  },
  {
   "cell_type": "code",
   "execution_count": 8,
   "id": "513d0fc0",
   "metadata": {
    "ExecuteTime": {
     "end_time": "2022-12-21T16:14:00.653320Z",
     "start_time": "2022-12-21T16:14:00.646661Z"
    }
   },
   "outputs": [],
   "source": [
    "def selection(population: List[List[int]], fitness_fn: Callable[[List[int]], int]) -> List[List[int]]:\n",
    "    \"\"\"\n",
    "    Selects the fittest individuals from the population.\n",
    "    \n",
    "    Parameters:\n",
    "    - population: a list of lists representing the population\n",
    "    - fitness_fn: a function that calculates the fitness of a solution\n",
    "    \n",
    "    Returns:\n",
    "    - A list of the fittest individuals in the population.\n",
    "    \"\"\"\n",
    "    # Sort the population by fitness\n",
    "    sorted_population = sorted(population, key=fitness_fn, reverse=True)\n",
    "    # Select the top individuals\n",
    "    return sorted_population[:int(len(sorted_population) / 2)]"
   ]
  },
  {
   "cell_type": "code",
   "execution_count": 9,
   "id": "3e2b6470",
   "metadata": {
    "ExecuteTime": {
     "end_time": "2022-12-21T16:14:00.664864Z",
     "start_time": "2022-12-21T16:14:00.654492Z"
    }
   },
   "outputs": [],
   "source": [
    "# Test with a population of size 10\n",
    "population = [[1, 1, 1, 1, 0], \n",
    "              [1, 1, 1, 0, 0], \n",
    "              [0, 1, 0, 0, 0], \n",
    "              [0, 1, 0, 0, 1], \n",
    "              [0, 0, 1, 0, 0], \n",
    "              [0, 0, 0, 0, 1], \n",
    "              [0, 0, 0, 0, 1],\n",
    "              [1, 1, 0, 1, 0], \n",
    "              [1, 0, 1, 0, 1], \n",
    "              [0, 1, 1, 1, 0]\n",
    "             ]\n",
    "\n",
    "fittest = selection(population, fitness)\n",
    "\n",
    "# Check that the returned value is a list of lists\n",
    "assert isinstance(fittest, list)\n",
    "assert all(isinstance(x, list) for x in fittest)\n",
    "\n",
    "# Check that the list contains 5 lists\n",
    "assert len(fittest) == 5\n",
    "\n",
    "# Check that the first list has 3 1s\n",
    "assert fitness(fittest[0]) == 4\n",
    "\n",
    "# Check that the last list has 2 1s\n",
    "assert fitness(fittest[-1]) == 3"
   ]
  },
  {
   "cell_type": "code",
   "execution_count": 10,
   "id": "a1ac5643",
   "metadata": {
    "ExecuteTime": {
     "end_time": "2022-12-21T16:14:00.675913Z",
     "start_time": "2022-12-21T16:14:00.666191Z"
    }
   },
   "outputs": [
    {
     "data": {
      "text/plain": [
       "[[1, 1, 1, 1, 0],\n",
       " [1, 1, 1, 0, 0],\n",
       " [1, 1, 0, 1, 0],\n",
       " [1, 0, 1, 0, 1],\n",
       " [0, 1, 1, 1, 0]]"
      ]
     },
     "execution_count": 10,
     "metadata": {},
     "output_type": "execute_result"
    }
   ],
   "source": [
    "fittest"
   ]
  },
  {
   "cell_type": "markdown",
   "id": "578542d1",
   "metadata": {},
   "source": [
    "## Generate offspring"
   ]
  },
  {
   "cell_type": "markdown",
   "id": "8ca9ab87",
   "metadata": {},
   "source": [
    "Offspring are generated through crossover and mutation. Crossover involves combining the genetic material of two parents to produce offspring. There are many ways to perform crossover, such as single-point crossover, two-point crossover, and uniform crossover.\n",
    "\n",
    "In single-point crossover, a random crossover point is chosen and the offspring inherit the genetic material from one parent before the crossover point and from the other parent after the crossover point\n",
    "\n",
    "In two-point crossover, two crossover points are chosen and the offspring inherit the genetic material from one parent in the first segment, from the other parent in the second segment, and so on.\n",
    "\n",
    "In uniform crossover, each gene in the offspring has an equal probability of inheriting the corresponding gene from either parent.\n",
    "\n",
    "Mutation involves randomly flipping the value of one or more genes in the offspring. The mutation rate determines the probability that a gene will be mutated. A high mutation rate can introduce more diversity into the population, but it can also decrease the quality of the solutions."
   ]
  },
  {
   "cell_type": "markdown",
   "id": "d1750576",
   "metadata": {},
   "source": [
    "### crossover in code"
   ]
  },
  {
   "cell_type": "markdown",
   "id": "4db555ab",
   "metadata": {},
   "source": [
    "`crossover` takes two parameters: `parent1`, which is a list of integers representing the first parent, and `parent2`, which is a list of integers representing the second parent. It returns a list of integers representing the offspring, generated through crossover.\n",
    "\n",
    "It does this by choosing a random crossover point and combining the two parents by taking the first part of parent1 and the second part of parent2, or vice versa."
   ]
  },
  {
   "cell_type": "code",
   "execution_count": 11,
   "id": "0f141cd5",
   "metadata": {
    "ExecuteTime": {
     "end_time": "2022-12-21T16:14:00.687511Z",
     "start_time": "2022-12-21T16:14:00.677414Z"
    }
   },
   "outputs": [],
   "source": [
    "def crossover(parent1: List[int], parent2: List[int]) -> List[int]:\n",
    "    \"\"\"\n",
    "    Generates offspring through crossover.\n",
    "    \n",
    "    Parameters:\n",
    "    - parent1: a list of integers representing the first parent\n",
    "    - parent2: a list of integers representing the second parent\n",
    "    \n",
    "    Returns:\n",
    "    - A list of integers representing the offspring.\n",
    "    \"\"\"\n",
    "    # Choose a crossover point\n",
    "    crossover_point = random.randint(1, len(parent1) - 1)\n",
    "    # Generate offspring\n",
    "    offspring = parent1[:crossover_point] + parent2[crossover_point:]\n",
    "    return offspring"
   ]
  },
  {
   "cell_type": "code",
   "execution_count": 12,
   "id": "8a66f8f0",
   "metadata": {
    "ExecuteTime": {
     "end_time": "2022-12-21T16:14:00.695725Z",
     "start_time": "2022-12-21T16:14:00.688731Z"
    }
   },
   "outputs": [],
   "source": [
    "offspring = crossover([0, 0, 0, 0, 0, 0, 0, 0, 0, 0], [1, 1, 1, 1, 1, 1, 1, 1, 1, 1])\n",
    "\n",
    "# Check that the returned value is a list\n",
    "assert isinstance(offspring, list)\n",
    "\n",
    "# Check that the list has length 5\n",
    "assert len(offspring) == 10\n",
    "# Check that the offspring contains elements from both parents\n",
    "assert 0 in offspring and 1 in offspring\n",
    "\n",
    "assert offspring[0] == 0\n",
    "assert offspring[-1] == 1"
   ]
  },
  {
   "cell_type": "code",
   "execution_count": 13,
   "id": "a3206379",
   "metadata": {
    "ExecuteTime": {
     "end_time": "2022-12-21T16:14:00.707876Z",
     "start_time": "2022-12-21T16:14:00.696945Z"
    }
   },
   "outputs": [
    {
     "data": {
      "text/plain": [
       "[0, 0, 0, 0, 1, 1, 1, 1, 1, 1]"
      ]
     },
     "execution_count": 13,
     "metadata": {},
     "output_type": "execute_result"
    }
   ],
   "source": [
    "offspring"
   ]
  },
  {
   "cell_type": "markdown",
   "id": "80494244",
   "metadata": {},
   "source": [
    "### mutate in code"
   ]
  },
  {
   "cell_type": "markdown",
   "id": "73fc69f5",
   "metadata": {},
   "source": [
    "`mutate` takes two parameters: `populations`, which is a list of lists of integers representing the population, and `mutation_rate`, which is a float representing the probability of a mutation occurring. It returns the modified population.\n",
    "\n",
    "It does this by iterating over each gene in each individual in the population and randomly flipping its value with a probability of mutation_rate."
   ]
  },
  {
   "cell_type": "code",
   "execution_count": 14,
   "id": "984c4280",
   "metadata": {
    "ExecuteTime": {
     "end_time": "2022-12-21T16:14:00.716049Z",
     "start_time": "2022-12-21T16:14:00.709008Z"
    }
   },
   "outputs": [],
   "source": [
    "def mutate(populations: List[List[int]], mutation_rate: float) -> List[List[int]]:\n",
    "    \"\"\"\n",
    "    Introduces mutations into the population.\n",
    "    \n",
    "    Parameters:\n",
    "    - populations: a list of lists of integers representing the population\n",
    "    - mutation_rate: a float representing the probability of a mutation occurring\n",
    "    \n",
    "    Returns:\n",
    "    - The modified population.\n",
    "    \"\"\"\n",
    "    populations = deepcopy(populations)\n",
    "    for population in populations:\n",
    "        for i in range(len(population)):\n",
    "            if random.random() < mutation_rate:\n",
    "                # Flip the value of a random gene\n",
    "                population[i] = 1 - population[i]\n",
    "    return populations\n"
   ]
  },
  {
   "cell_type": "code",
   "execution_count": 15,
   "id": "d426bb6d",
   "metadata": {
    "ExecuteTime": {
     "end_time": "2022-12-21T16:14:00.725699Z",
     "start_time": "2022-12-21T16:14:00.717249Z"
    }
   },
   "outputs": [],
   "source": [
    "# Test with population = [[0, 0, 0, 0, 0], [1, 1, 1, 1, 1]] and mutation_rate = 0.5\n",
    "populations = [[0, 0, 0, 0, 0], [1, 1, 1, 1, 1]]\n",
    "mutation_rate = 0.5\n",
    "result = mutate(populations, mutation_rate)\n",
    "\n",
    "# Check that the returned value is a list of lists\n",
    "assert isinstance(result, list)\n",
    "assert all(isinstance(i, list) for i in result)\n",
    "\n",
    "# Check that the length of each inner list is 5\n",
    "assert all(len(i) == 5 for i in result)\n",
    "\n",
    "# Check that the result contains at least one mutation\n",
    "assert any(i != j for i, j in zip(result[0], populations[0])) or any(i != j for i, j in zip(result[1], populations[1]))"
   ]
  },
  {
   "cell_type": "code",
   "execution_count": 16,
   "id": "499bfb35",
   "metadata": {
    "ExecuteTime": {
     "end_time": "2022-12-21T16:14:00.734022Z",
     "start_time": "2022-12-21T16:14:00.726898Z"
    }
   },
   "outputs": [],
   "source": [
    "# Test with population = [[0, 0, 0, 0, 0], [1, 1, 1, 1, 1]] and mutation_rate = 0.0\n",
    "populations = [[0, 0, 0, 0, 0], [1, 1, 1, 1, 1]]\n",
    "mutation_rate = 0\n",
    "result = mutate(populations, mutation_rate)\n",
    "\n",
    "# Check that the returned value is a list of lists\n",
    "assert isinstance(result, list)\n",
    "assert all(isinstance(i, list) for i in result)\n",
    "\n",
    "# Check that the length of each inner list is 5\n",
    "assert all(len(i) == 5 for i in result)\n",
    "\n",
    "# Check that the result is unchanged\n",
    "assert result == populations"
   ]
  },
  {
   "cell_type": "markdown",
   "id": "9f24f2a3",
   "metadata": {},
   "source": [
    "## Replace the weakest individuals"
   ]
  },
  {
   "cell_type": "markdown",
   "id": "9624b43a",
   "metadata": {},
   "source": [
    "The weakest individuals in the population are replaced with the offspring. This step is known as survival of the fittest. The size of the population remains constant and the fittest individuals are preserved while the weakest are replaced."
   ]
  },
  {
   "cell_type": "markdown",
   "id": "60641da3",
   "metadata": {},
   "source": [
    "## Repeat the process"
   ]
  },
  {
   "cell_type": "markdown",
   "id": "da30a375",
   "metadata": {},
   "source": [
    "The process is repeated until a satisfactory solution is found or a predetermined number of iterations has been reached. The genetic algorithm continues to evolve the population until a satisfactory solution is found or the maximum number of iterations is reached."
   ]
  },
  {
   "cell_type": "markdown",
   "id": "456f0881",
   "metadata": {},
   "source": [
    "### genetic_algorithm in code"
   ]
  },
  {
   "cell_type": "code",
   "execution_count": 20,
   "id": "d4c436e1",
   "metadata": {
    "ExecuteTime": {
     "end_time": "2022-12-21T16:40:03.252246Z",
     "start_time": "2022-12-21T16:40:03.248878Z"
    }
   },
   "outputs": [],
   "source": [
    "# Run the genetic algorithm\n",
    "def genetic_algorithm(solution_size, population_size, fitness_fn, mutation_rate):\n",
    "    # Initialize the population\n",
    "    population = initialize_population(solution_size, population_size)\n",
    "    print(selection(population, fitness_fn)[0])\n",
    "    # Iterate until a solution is found\n",
    "    while True:\n",
    "        # Select the fittest individuals\n",
    "        fittest = selection(population, fitness_fn)\n",
    "        # Generate offspring through crossover\n",
    "        offspring = crossover(fittest[0], fittest[1])\n",
    "        # Introduce mutations\n",
    "        population = mutate(population, mutation_rate)\n",
    "        # Add the offspring to the population\n",
    "        population.append(offspring)\n",
    "        # Check if a solution has been found\n",
    "        if fitness_fn(offspring) == len(offspring):\n",
    "            return offspring"
   ]
  },
  {
   "cell_type": "code",
   "execution_count": 18,
   "id": "74991f8c",
   "metadata": {
    "ExecuteTime": {
     "end_time": "2022-12-21T16:16:41.286592Z",
     "start_time": "2022-12-21T16:14:00.747693Z"
    }
   },
   "outputs": [
    {
     "name": "stdout",
     "output_type": "stream",
     "text": [
      "[1, 1, 1, 1, 1, 1, 1, 1, 1, 1, 0, 0, 1, 0, 0, 1, 0, 0, 1, 0, 1, 1, 1, 0, 0, 1, 0, 1, 0, 1, 1, 1, 1, 1, 1, 0, 0, 0, 1, 0, 0, 1, 0, 1, 1, 0, 0, 1, 1, 1, 0, 1, 1, 0, 0, 1, 0, 1, 0, 0, 1, 1, 1, 0, 0, 0, 0, 0, 1, 1, 0, 0, 1, 1, 1, 1, 0, 0, 1, 1, 1, 1, 0, 0, 1, 1, 1, 1, 1, 1, 1, 1, 1, 1, 1, 1, 1, 0, 0, 1]\n",
      "[1, 1, 1, 1, 1, 1, 1, 1, 1, 1, 1, 1, 1, 1, 1, 1, 1, 1, 1, 1, 1, 1, 1, 1, 1, 1, 1, 1, 1, 1, 1, 1, 1, 1, 1, 1, 1, 1, 1, 1, 1, 1, 1, 1, 1, 1, 1, 1, 1, 1, 1, 1, 1, 1, 1, 1, 1, 1, 1, 1, 1, 1, 1, 1, 1, 1, 1, 1, 1, 1, 1, 1, 1, 1, 1, 1, 1, 1, 1, 1, 1, 1, 1, 1, 1, 1, 1, 1, 1, 1, 1, 1, 1, 1, 1, 1, 1, 1, 1, 1]\n"
     ]
    }
   ],
   "source": [
    "# Test the genetic algorithm\n",
    "result = genetic_algorithm(100, 100, fitness, 0.005)\n",
    "print(result)"
   ]
  },
  {
   "cell_type": "markdown",
   "id": "c52a999a",
   "metadata": {},
   "source": [
    "## Conclusion"
   ]
  },
  {
   "cell_type": "markdown",
   "id": "e3c4f7e4",
   "metadata": {},
   "source": [
    "In this article, we have explored a simple genetic algorithm that demonstrates the key components of this optimization technique. We have seen how the genetic algorithm generates a population of candidate solutions, evaluates the fitness of each individual, selects the fittest individuals for reproduction, generates offspring through crossover and mutation, and replaces the weakest individuals. This process is repeated until a satisfactory solution is found or a predetermined number of iterations has been reached.\n",
    "\n",
    "We have also looked at some of the considerations when designing a genetic algorithm, such as the representation of the solutions, the fitness function, the selection function, the crossover function, and the mutation function. These components are important for guiding the search for solutions and improving the quality of the solutions found by the genetic algorithm.\n",
    "\n",
    "Overall, genetic algorithms are a powerful optimization technique that can be used to solve a wide range of problems, particularly those with large solution spaces or unstructured problems. By understanding the key components and how they work together, you can design and implement a genetic algorithm that can find high-quality solutions to complex problems."
   ]
  }
 ],
 "metadata": {
  "kernelspec": {
   "display_name": "Python 3.8.10 64-bit",
   "language": "python",
   "name": "python3"
  },
  "language_info": {
   "codemirror_mode": {
    "name": "ipython",
    "version": 3
   },
   "file_extension": ".py",
   "mimetype": "text/x-python",
   "name": "python",
   "nbconvert_exporter": "python",
   "pygments_lexer": "ipython3",
   "version": "3.8.10"
  },
  "vscode": {
   "interpreter": {
    "hash": "31f2aee4e71d21fbe5cf8b01ff0e069b9275f58929596ceb00d14d90e3e16cd6"
   }
  }
 },
 "nbformat": 4,
 "nbformat_minor": 5
}
